{
 "cells": [
  {
   "cell_type": "markdown",
   "metadata": {},
   "source": [
    "\n",
    "# ry2020_下:\n",
    "\n",
    "\n",
    "## 1. Python 學習資源\n",
    "\n",
    "- \"An Informal Introduction to Python\"\n",
    "    - Python 官網的給初學者的切入口，開胃小菜。\n",
    "    - https://docs.python.org/3.8/tutorial/introduction.html\n",
    "\n",
    "- \"Think Python\" 2nd Edition by Allen B. Downey\n",
    "    - 一本相當早期的著作，可讀性很高，我個人跟隨此作者多本著作一段時期。有正式中文譯本流通。\n",
    "    - https://greenteapress.com/wp/think-python-2e/ \n",
    "    - codes: https://github.com/AllenDowney/ThinkPython2/tree/master/code\n",
    "\n",
    "- Python for Everybody: The Ultimate Python 3 Bootcamp [Video]\n",
    "    - 約 9小時 的90支短影片，可以隨選主題慢慢觀賞，資料更新至今年(2020)，相當即時。\n",
    "    - https://subscription.packtpub.com/video/programming/9781800562196 \n",
    "        - (個人讀者須付費) \n",
    "        - (長庚大學修習本課程學生可由E-learning進入觀賞)\n",
    "        - 目錄: https://el.cgu.edu.tw/base/10001/course/10027630/content/python_for_everybody/overview.html\n",
    "        - 影片: https://el.cgu.edu.tw/base/10001/course/10027630/content/python_for_everybody/index.html\n",
    "    - codes: https://github.com/PacktPublishing/Python-for-Everybody-The-Ultimate-Python-3-Bootcamp\n",
    "\n",
    "- The Complete Python Course [Video]\n",
    "    - 約 35小時 的285支短影片，可以隨選主題慢慢觀賞\n",
    "    - https://subscription.packtpub.com/video/programming/9781839217289 \n",
    "        - (個人讀者須付費) \n",
    "        - (長庚大學修習本課程學生可由此進入觀賞)\n",
    "        - 目錄: https://el.cgu.edu.tw/base/10001/course/10028574/content/overview.html\n",
    "        - 影片: https://el.cgu.edu.tw/base/10001/course/10028574/content/index.html\n",
    "    - codes: https://github.com/tecladocode/complete-python-course/tree/master/course_contents\n",
    "\n",
    "- 學習python經驗談：\n",
    "    - 快速瀏覽語法\n",
    "    - 讀 code\n",
    "    - 寫 code"
   ]
  },
  {
   "cell_type": "markdown",
   "metadata": {},
   "source": [
    "## 2. 安裝 Python 工作環境\n",
    "\n",
    "- Python 官網\n",
    "    - https://www.python.org/\n",
    "- Anaconda 官網\n",
    "    - https://anaconda.org/\n",
    "- Google Colab 官網\n",
    "    - 免安裝，需要 google 帳號，\n",
    "    - 配合使用 Google 雲端硬碟 或 Github 會更方便。\n",
    "    - https://colab.research.google.com/\n"
   ]
  },
  {
   "cell_type": "code",
   "execution_count": null,
   "metadata": {},
   "outputs": [],
   "source": []
  }
 ],
 "metadata": {
  "kernelspec": {
   "display_name": "Python 3",
   "language": "python",
   "name": "python3"
  },
  "language_info": {
   "codemirror_mode": {
    "name": "ipython",
    "version": 3
   },
   "file_extension": ".py",
   "mimetype": "text/x-python",
   "name": "python",
   "nbconvert_exporter": "python",
   "pygments_lexer": "ipython3",
   "version": "3.8.3"
  },
  "latex_envs": {
   "LaTeX_envs_menu_present": true,
   "autoclose": false,
   "autocomplete": true,
   "bibliofile": "biblio.bib",
   "cite_by": "apalike",
   "current_citInitial": 1,
   "eqLabelWithNumbers": true,
   "eqNumInitial": 1,
   "hotkeys": {
    "equation": "Ctrl-E",
    "itemize": "Ctrl-I"
   },
   "labels_anchors": false,
   "latex_user_defs": false,
   "report_style_numbering": false,
   "user_envs_cfg": false
  },
  "nbTranslate": {
   "displayLangs": [
    "zh-TW",
    "en"
   ],
   "hotkey": "alt-t",
   "langInMainMenu": true,
   "sourceLang": "en",
   "targetLang": "zh-TW",
   "useGoogleTranslate": true
  },
  "toc": {
   "base_numbering": 1,
   "nav_menu": {},
   "number_sections": true,
   "sideBar": true,
   "skip_h1_title": false,
   "title_cell": "Table of Contents",
   "title_sidebar": "Contents",
   "toc_cell": false,
   "toc_position": {},
   "toc_section_display": true,
   "toc_window_display": false
  },
  "varInspector": {
   "cols": {
    "lenName": 16,
    "lenType": 16,
    "lenVar": 40
   },
   "kernels_config": {
    "python": {
     "delete_cmd_postfix": "",
     "delete_cmd_prefix": "del ",
     "library": "var_list.py",
     "varRefreshCmd": "print(var_dic_list())"
    },
    "r": {
     "delete_cmd_postfix": ") ",
     "delete_cmd_prefix": "rm(",
     "library": "var_list.r",
     "varRefreshCmd": "cat(var_dic_list()) "
    }
   },
   "types_to_exclude": [
    "module",
    "function",
    "builtin_function_or_method",
    "instance",
    "_Feature"
   ],
   "window_display": false
  }
 },
 "nbformat": 4,
 "nbformat_minor": 4
}
